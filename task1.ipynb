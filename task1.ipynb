{
 "cells": [
  {
   "cell_type": "markdown",
   "metadata": {},
   "source": [
    "imports"
   ]
  },
  {
   "cell_type": "code",
   "execution_count": null,
   "metadata": {},
   "outputs": [],
   "source": [
    "# imports\n",
    "import pandas as pd\n",
    "import numpy as np\n",
    "import json"
   ]
  },
  {
   "cell_type": "markdown",
   "metadata": {},
   "source": [
    "loading data"
   ]
  },
  {
   "cell_type": "code",
   "execution_count": null,
   "metadata": {},
   "outputs": [],
   "source": [
    "# location dataframe\n",
    "location_df = pd.read_csv('SaO_Optilandia_resub_locations.csv')\n",
    "\n",
    "# links dataframe\n",
    "links_df = pd.read_csv('SaO_Optilandia_resub_links.csv')\n",
    "\n",
    "# extract lorry data from json\n",
    "lorry_data = json.load(open('SaO_Optilandia_resub_depot_lorries.json', 'r'))\n",
    "\n",
    "# set count to 0\n",
    "k = 0\n",
    "\n",
    "# initialise lorry list\n",
    "lorry = []\n",
    "\n",
    "# loop -> set i to the respective lorry key\n",
    "for i in lorry_data.keys():\n",
    "    # set j to the the number of lorries at key 'i'\n",
    "    for j in range(0, len(lorry_data[i])):\n",
    "        # append each lorry in lorry_data to lorry list\n",
    "        lorry.append(pd.DataFrame(lorry_data[i][j], index=[k]))\n",
    "        # accumulate index\n",
    "        k += 1\n",
    "\n",
    "# lorry dataframe\n",
    "lorry_df = pd.concat(lorry)"
   ]
  },
  {
   "cell_type": "code",
   "execution_count": null,
   "metadata": {},
   "outputs": [],
   "source": [
    "# show first 5 rows of lorry_df\n",
    "lorry_df.head()"
   ]
  },
  {
   "cell_type": "code",
   "execution_count": null,
   "metadata": {},
   "outputs": [],
   "source": [
    "# list of depot locations (where nodes == depot)\n",
    "depot_locations = np.where(location_df.is_depot)[0]\n",
    "\n",
    "# list of customer locations (where nodes == customers)\n",
    "customer_locations = np.where(location_df.is_customer)[0]"
   ]
  },
  {
   "cell_type": "markdown",
   "metadata": {},
   "source": [
    "imports + visualising the map"
   ]
  },
  {
   "cell_type": "code",
   "execution_count": null,
   "metadata": {},
   "outputs": [],
   "source": [
    "# imports\n",
    "import networkx as nx\n",
    "from scipy.spatial.distance import pdist, squareform\n",
    "import matplotlib.pyplot as plt \n",
    "\n",
    "# parwise distance calculation for each node\n",
    "euclidean = squareform(pdist(location_df[['x', 'y']]))\n",
    "\n",
    "# edges list initialisation\n",
    "edges = []\n",
    "\n",
    "# loop through links_df rows\n",
    "for _, (i, j) in links_df.iterrows():\n",
    "    # append node at i, node at j, and their pairwise distance to edges\n",
    "    edges.append((i, j, euclidean[i, j]))\n",
    "\n",
    "# pos dict intialisation\n",
    "pos = {}\n",
    "\n",
    "# loop through location_df rows\n",
    "for k, v in location_df[['x', 'y']].iterrows():\n",
    "    # update pos dict with array of k, v \n",
    "    pos.update({k:v.values})\n",
    "\n",
    "# initialise depot_labels dict\n",
    "depot_labels = {}\n",
    "\n",
    "# loop throgugh depot_locations\n",
    "for i in depot_locations:\n",
    "    # update depot_labels dict with {i:i}\n",
    "    depot_labels.update({i:i})\n",
    "\n",
    "# initialise customer_labels dict\n",
    "customer_labels = {}\n",
    "\n",
    "# loop through customer_locations\n",
    "for i in customer_locations:\n",
    "    # update customer_labels dict with {i:i}\n",
    "    customer_labels.update({i:i})\n",
    "\n",
    "# initialise nx Graph\n",
    "G = nx.Graph()\n",
    "\n",
    "# feed node list to G\n",
    "G.add_nodes_from(location_df['id'].to_numpy())\n",
    "\n",
    "# feed edges list to G\n",
    "G.add_weighted_edges_from(edges)\n",
    "\n",
    "# resize figure \n",
    "plt.figure(figsize=(16, 8))\n",
    "\n",
    "# sketch graph\n",
    "nx.draw(G, pos=pos, node_size=40)\n",
    "\n",
    "# label depot nodes\n",
    "nx.draw_networkx_labels(G, pos, depot_labels)\n",
    "\n",
    "# label customer nodes\n",
    "nx.draw_networkx_labels(G, pos, customer_labels)\n",
    "\n",
    "# mark depot nodes\n",
    "nx.draw_networkx_nodes(G, pos=pos, nodelist=depot_locations, node_color='r', node_size=400, alpha=0.9)\n",
    "\n",
    "# mark customer nodes\n",
    "nx.draw_networkx_nodes(G, pos=pos, nodelist=customer_locations, node_color='g', node_size=200, alpha=0.3)"
   ]
  },
  {
   "cell_type": "markdown",
   "metadata": {},
   "source": [
    "clustering nodes (customer_locations) via nearest neighbour sorting"
   ]
  },
  {
   "cell_type": "code",
   "execution_count": null,
   "metadata": {},
   "outputs": [],
   "source": [
    "# intialise cluster dict\n",
    "cluster = {124:[], 127:[], 167:[], 523:[]}\n",
    "\n",
    "# intialise nodes list\n",
    "nodes = [] \n",
    "\n",
    "# loop through each node in customer_locations\n",
    "for node in customer_locations:\n",
    "    # check if node in nodes\n",
    "    if node not in nodes:\n",
    "        # initialise dist list\n",
    "        dist = []\n",
    "        # loop through each depot key\n",
    "        for depot in cluster.keys():\n",
    "            # append euclidean weights to dist \n",
    "            dist.append(euclidean[node, depot])\n",
    "        # get shortest distance\n",
    "        shortestDist = min(dist)\n",
    "        # match shortest distance to equivalent node index\n",
    "        nearestDepotIndex = np.where(euclidean[node]==shortestDist)\n",
    "        # add node to relative nearest depot location\n",
    "        cluster[int(nearestDepotIndex[0])].append(node)\n",
    "        # track applied nodes\n",
    "        nodes.append(node)\n",
    "        # clear dist\n",
    "        dist.clear()\n",
    "\n",
    "# print allocated nodes to relative cluster points (depot locations)\n",
    "print(cluster)\n",
    "\n",
    "# clear nodes list\n",
    "nodes.clear()"
   ]
  },
  {
   "cell_type": "markdown",
   "metadata": {},
   "source": [
    "states and constraints"
   ]
  },
  {
   "cell_type": "code",
   "execution_count": null,
   "metadata": {},
   "outputs": [],
   "source": [
    "# setting required column \n",
    "location_df['required'] = location_df['capacity']-location_df['level']\n",
    "\n",
    "# displaying rows where is_customer true\n",
    "location_df[location_df['is_customer']==True].head()"
   ]
  },
  {
   "cell_type": "code",
   "execution_count": null,
   "metadata": {},
   "outputs": [],
   "source": [
    "# function: finding next nearest customer node\n",
    "def nearest_customer(currentState, customerList):\n",
    "    #initialise dist dict\n",
    "    dist = {}\n",
    "    \n",
    "    # loop through customerList\n",
    "    for i in customerList:\n",
    "        # check for all where customer != currentState\n",
    "        if i != currentState:\n",
    "            # update dist with available customer index and their relative weights\n",
    "            dist.update({i:euclidean[i,currentState]})\n",
    "\n",
    "    # initialise temp list\n",
    "    temp = []\n",
    "\n",
    "    # loop through keys of dist \n",
    "    for i in dist.keys():\n",
    "        # add weights to temp\n",
    "        temp.append(dist[i])\n",
    "    \n",
    "    # get lowest weight\n",
    "    _shortestDist = min(temp)\n",
    "    \n",
    "    # find relative index of lowest weight\n",
    "    nearestCustomerIndex = np.where(euclidean[currentState]==_shortestDist)\n",
    "    \n",
    "    # return next index with relative weight\n",
    "    return int(nearestCustomerIndex[0]), _shortestDist"
   ]
  },
  {
   "cell_type": "code",
   "execution_count": null,
   "metadata": {},
   "outputs": [],
   "source": [
    "# test nearest_customer()\n",
    "nearest_customer(1, [2, 3, 1, 5])"
   ]
  },
  {
   "cell_type": "code",
   "execution_count": null,
   "metadata": {},
   "outputs": [],
   "source": [
    "# function: finding the nearest depot\n",
    "def nearest_depot(currentState, depotList):\n",
    "    # intialise dist dict\n",
    "    dist = {}\n",
    "\n",
    "    # loop through depotList\n",
    "    for i in depotList:\n",
    "        # update dist with depot and their relative distance values\n",
    "        dist.update({i:euclidean[currentState, i]})\n",
    "    \n",
    "    # intialise temp list\n",
    "    temp = []\n",
    "\n",
    "    # loop through dist.keys()\n",
    "    for i in dist.keys():\n",
    "        # add values of each dist.keys() to temp \n",
    "        temp.append(dist[i])\n",
    "\n",
    "    # get lowest depot weight\n",
    "    _shortestDist = min(temp)\n",
    "\n",
    "    # get the relative node index of the closest depot\n",
    "    _nearestDepotIndex = np.where(euclidean[currentState]==_shortestDist)\n",
    "\n",
    "    # return next depot index with relative weight\n",
    "    return int(_nearestDepotIndex[0]), _shortestDist"
   ]
  },
  {
   "cell_type": "code",
   "execution_count": null,
   "metadata": {},
   "outputs": [],
   "source": [
    "# test near_depot()\n",
    "nearest_depot(1, depot_locations)"
   ]
  },
  {
   "cell_type": "markdown",
   "metadata": {},
   "source": [
    "greedy search (best-first-search)"
   ]
  },
  {
   "cell_type": "code",
   "execution_count": null,
   "metadata": {},
   "outputs": [],
   "source": [
    "# intialise routes dict\n",
    "routes = {}\n",
    "\n",
    "# loop through lorry_df.index \n",
    "for i in lorry_df.index:\n",
    "    # update routes with key: lorry_id, value: capacity\n",
    "    routes.update({lorry_df['lorry_id'][i]:lorry_df['capacity'][i]})"
   ]
  },
  {
   "cell_type": "code",
   "execution_count": null,
   "metadata": {},
   "outputs": [],
   "source": [
    "# display journeys so far\n",
    "routes"
   ]
  },
  {
   "cell_type": "code",
   "execution_count": null,
   "metadata": {},
   "outputs": [],
   "source": [
    "print(edges[0][2])"
   ]
  },
  {
   "cell_type": "code",
   "execution_count": null,
   "metadata": {},
   "outputs": [],
   "source": [
    "def routing(currentState, targetState, edges):\n",
    "    nodes = [currentState]\n",
    "    storedEdges = edges \n",
    "    currentNode = currentState\n",
    "    targetNode = targetState\n",
    "    toggleEdges = list(np.where(links_df[['id1', 'id2']]==currentNode)[0])\n",
    "    traversedEdges = []\n",
    "    routeWeights = []\n",
    "\n",
    "    for edge in toggleEdges:\n",
    "        while currentNode != targetNode:\n",
    "            if storedEdges[edge][0] == targetNode or storedEdges[edge][1] == targetNode:\n",
    "                print(f'targetNode found:')\n",
    "                traversedEdges.append(edge)\n",
    "                currentNode = targetNode\n",
    "                nodes.append(currentNode)\n",
    "                routeWeights.append(storedEdges[edge][2])\n",
    "            else:\n",
    "                print(f'targetNode not found:')\n",
    "                print(f'currentNode: {currentNode}; searching for path')\n",
    "                print(f'nodes so far: {nodes}')\n",
    "                toggleEdges = list(np.where(links_df[['id1', 'id2']]==currentNode)[0])\n",
    "                print(f'toggleEdges {toggleEdges}')\n",
    "                edgeWeights = []\n",
    "                visitedToggleEdge = []\n",
    "                for i, secEdge in enumerate(toggleEdges):\n",
    "                    if secEdge in traversedEdges:\n",
    "                        edgeWeights.append(storedEdges[secEdge][2])\n",
    "                        visitedToggleEdge.append(secEdge)\n",
    "                    if secEdge not in traversedEdges:\n",
    "                        edgeWeights.append(storedEdges[secEdge][2])\n",
    "                print(f'edgeWeights: {edgeWeights}')\n",
    "                print(f'visitedToggleEdge: {visitedToggleEdge}')\n",
    "                \n",
    "                # # # this seems to be the PROBLEM # # # \n",
    "                for i, visitedEdge in enumerate(visitedToggleEdge):\n",
    "                    if visitedEdge in toggleEdges:\n",
    "                        weightToRemove = storedEdges[visitedEdge][2]\n",
    "                        toggleEdges.remove(visitedEdge)\n",
    "                        edgeWeights.remove(weightToRemove)\n",
    "          \n",
    "                print(f'toggleEdges post-remove(): {toggleEdges}')\n",
    "                print(f'edgeWeights post-pop(): {edgeWeights}')\n",
    "\n",
    "                # index of smallest routeWeights value in toggleEdges\n",
    "                nextBestIndex = edgeWeights.index(min(edgeWeights))\n",
    "                # actual edge index of toggleEdges and links_df \n",
    "                relativeBestIndex = toggleEdges[nextBestIndex]\n",
    "                # nextBestEdge = np.where(links_df.index==nextBestIndex)[0][0]\n",
    "                nextBestEdge = np.where(links_df.index==relativeBestIndex)[0][0]\n",
    "                print(f'selected Edge = {nextBestEdge}')\n",
    "                # tempEdgeIndex = toggleEdges[nextBestEdge]\n",
    "                bestEdgeNodes = storedEdges[nextBestEdge]\n",
    "\n",
    "                if currentNode == bestEdgeNodes[0] and currentNode != bestEdgeNodes[1]:\n",
    "                    print(f'id1 selected')\n",
    "                    currentNode = bestEdgeNodes[1]\n",
    "                    # edge = tempEdgeIndex \n",
    "                    edge = nextBestEdge\n",
    "                    nodes.append(currentNode)\n",
    "                    # traversedEdges.append(tempEdgeIndex)\n",
    "                    traversedEdges.append(nextBestEdge)\n",
    "                    print(f'traversedEdges post-id1: {traversedEdges}')\n",
    "                    # routeWeights.append(storedEdges[tempEdgeIndex][2])\n",
    "                    routeWeights.append(storedEdges[nextBestEdge][2])\n",
    "                    print(f'routeWeights post id1: {routeWeights}')\n",
    "                    print(f'\\n')\n",
    "                elif currentNode != bestEdgeNodes[0] and currentNode == bestEdgeNodes[1]:\n",
    "                    print(f'id2 selected')\n",
    "                    currentNode = bestEdgeNodes[0]\n",
    "                    # edge = tempEdgeIndex\n",
    "                    edge = nextBestEdge\n",
    "                    nodes.append(currentNode)\n",
    "                    # traversedEdges.append(tempEdgeIndex)\n",
    "                    traversedEdges.append(nextBestEdge)\n",
    "                    print(f'traversedEdges post-id2: {traversedEdges}')\n",
    "                    # routeWeights.append(storedEdges[tempEdgeIndex][2])\n",
    "                    routeWeights.append(storedEdges[nextBestEdge][2])\n",
    "                    print(f'routeWeights post id1: {routeWeights}')\n",
    "                    print(f'\\n')\n",
    "\n",
    "        break\n",
    "\n",
    "routing(124, 10, edges)"
   ]
  },
  {
   "cell_type": "code",
   "execution_count": null,
   "metadata": {},
   "outputs": [],
   "source": [
    "#toggleEdges = list(np.where(links_df[['id1', 'id2']]==124)[0])\n",
    "toggleEdges = [308, 309, 310]\n",
    "print(toggleEdges)\n",
    "toggleEdges.remove(310)\n",
    "print(toggleEdges)"
   ]
  },
  {
   "cell_type": "code",
   "execution_count": null,
   "metadata": {},
   "outputs": [],
   "source": [
    "from dijkstar import Graph, find_path\n",
    "\n",
    "graph = Graph()\n",
    "\n",
    "for _, (i, j) in links_df.iterrows():\n",
    "    graph.add_edge(i, j, _)\n",
    "\n",
    "find_path(graph, 0, 605)\n",
    "# find_path(graph, 124, 10)"
   ]
  },
  {
   "cell_type": "code",
   "execution_count": null,
   "metadata": {},
   "outputs": [],
   "source": [
    "temp = [0, 1, 2, 3, 4]\n",
    "\n",
    "def route(lorryId, allocatedCustomers):\n",
    "    currentId = lorryId\n",
    "    operatingDepot = lorryId.split('-')[0]\n",
    "    currentCapacity = float(lorry_df[lorry_df['lorry_id']==lorryId].capacity)\n",
    "    currentCpm = float(lorry_df[lorry_df['lorry_id']==lorryId].cpm)\n",
    "    currentState = int(operatingDepot)\n",
    "    nextCustomerCapacity = 0\n",
    "    while currentCapacity >= nextCustomerCapacity and len(allocatedCustomers)>0:\n",
    "        nextCustomer = nearest_customer(currentState, allocatedCustomers)\n",
    "        print(nextCustomer)\n",
    "        # need for a routing function ... \n",
    "        print(allocatedCustomers)\n",
    "        break\n",
    "\n",
    "\n",
    "route(\"523-0\", temp)"
   ]
  }
 ],
 "metadata": {
  "interpreter": {
   "hash": "6dc963290d6e8c477cd46c162738e9c07bc42d08c69d19efe0ecb8c0835c38d0"
  },
  "kernelspec": {
   "display_name": "Python 3.8.3 32-bit",
   "language": "python",
   "name": "python3"
  },
  "language_info": {
   "codemirror_mode": {
    "name": "ipython",
    "version": 3
   },
   "file_extension": ".py",
   "mimetype": "text/x-python",
   "name": "python",
   "nbconvert_exporter": "python",
   "pygments_lexer": "ipython3",
   "version": "3.8.3"
  },
  "orig_nbformat": 4
 },
 "nbformat": 4,
 "nbformat_minor": 2
}
