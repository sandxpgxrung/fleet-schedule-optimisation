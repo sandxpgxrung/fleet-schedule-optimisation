{
 "cells": [
  {
   "cell_type": "markdown",
   "metadata": {},
   "source": [
    "imports"
   ]
  },
  {
   "cell_type": "code",
   "execution_count": null,
   "metadata": {},
   "outputs": [],
   "source": [
    "# imports\n",
    "import pandas as pd\n",
    "import numpy as np\n",
    "import json"
   ]
  },
  {
   "cell_type": "markdown",
   "metadata": {},
   "source": [
    "loading data"
   ]
  },
  {
   "cell_type": "code",
   "execution_count": null,
   "metadata": {},
   "outputs": [],
   "source": [
    "# location dataframe\n",
    "location_df = pd.read_csv('SaO_Optilandia_resub_locations.csv')\n",
    "\n",
    "# links dataframe\n",
    "links_df = pd.read_csv('SaO_Optilandia_resub_links.csv')\n",
    "\n",
    "# extract lorry data from json\n",
    "lorry_data = json.load(open('SaO_Optilandia_resub_depot_lorries.json', 'r'))\n",
    "\n",
    "# set count to 0\n",
    "k = 0\n",
    "\n",
    "# initialise lorry list\n",
    "lorry = []\n",
    "\n",
    "# loop -> set i to the respective lorry key\n",
    "for i in lorry_data.keys():\n",
    "    # set j to the the number of lorries at key 'i'\n",
    "    for j in range(0, len(lorry_data[i])):\n",
    "        # append each lorry in lorry_data to lorry list\n",
    "        lorry.append(pd.DataFrame(lorry_data[i][j], index=[k]))\n",
    "        # accumulate index\n",
    "        k += 1\n",
    "\n",
    "# lorry dataframe\n",
    "lorry_df = pd.concat(lorry)"
   ]
  },
  {
   "cell_type": "code",
   "execution_count": null,
   "metadata": {},
   "outputs": [],
   "source": [
    "# show first 5 rows of lorry_df\n",
    "lorry_df.head()"
   ]
  },
  {
   "cell_type": "code",
   "execution_count": null,
   "metadata": {},
   "outputs": [],
   "source": [
    "# list of depot locations (where nodes == depot)\n",
    "depot_locations = np.where(location_df.is_depot)[0]\n",
    "\n",
    "# list of customer locations (where nodes == customers)\n",
    "customer_locations = np.where(location_df.is_customer)[0]"
   ]
  },
  {
   "cell_type": "markdown",
   "metadata": {},
   "source": [
    "imports + visualising the map"
   ]
  },
  {
   "cell_type": "code",
   "execution_count": null,
   "metadata": {},
   "outputs": [],
   "source": [
    "# imports\n",
    "import networkx as nx\n",
    "from scipy.spatial.distance import pdist, squareform\n",
    "import matplotlib.pyplot as plt \n",
    "\n",
    "# parwise distance calculation for each node\n",
    "euclidean = squareform(pdist(location_df[['x', 'y']]))\n",
    "\n",
    "# edges list initialisation\n",
    "edges = []\n",
    "\n",
    "# loop through links_df rows\n",
    "for _, (i, j) in links_df.iterrows():\n",
    "    # append node at i, node at j, and their pairwise distance to edges\n",
    "    edges.append((i, j, euclidean[i, j]))\n",
    "\n",
    "# pos dict intialisation\n",
    "pos = {}\n",
    "\n",
    "# loop through location_df rows\n",
    "for k, v in location_df[['x', 'y']].iterrows():\n",
    "    # update pos dict with array of k, v \n",
    "    pos.update({k:v.values})\n",
    "\n",
    "# initialise depot_labels dict\n",
    "depot_labels = {}\n",
    "\n",
    "# loop throgugh depot_locations\n",
    "for i in depot_locations:\n",
    "    # update depot_labels dict with {i:i}\n",
    "    depot_labels.update({i:i})\n",
    "\n",
    "# initialise customer_labels dict\n",
    "customer_labels = {}\n",
    "\n",
    "# loop through customer_locations\n",
    "for i in customer_locations:\n",
    "    # update customer_labels dict with {i:i}\n",
    "    customer_labels.update({i:i})\n",
    "\n",
    "# initialise nx Graph\n",
    "G = nx.Graph()\n",
    "\n",
    "# feed node list to G\n",
    "G.add_nodes_from(location_df['id'].to_numpy())\n",
    "\n",
    "# feed edges list to G\n",
    "G.add_weighted_edges_from(edges)\n",
    "\n",
    "# resize figure \n",
    "plt.figure(figsize=(16, 8))\n",
    "\n",
    "# sketch graph\n",
    "nx.draw(G, pos=pos, node_size=40)\n",
    "\n",
    "# label depot nodes\n",
    "nx.draw_networkx_labels(G, pos, depot_labels)\n",
    "\n",
    "# label customer nodes\n",
    "nx.draw_networkx_labels(G, pos, customer_labels)\n",
    "\n",
    "# mark depot nodes\n",
    "nx.draw_networkx_nodes(G, pos=pos, nodelist=depot_locations, node_color='r', node_size=400, alpha=0.9)\n",
    "\n",
    "# mark customer nodes\n",
    "nx.draw_networkx_nodes(G, pos=pos, nodelist=customer_locations, node_color='g', node_size=200, alpha=0.3)"
   ]
  },
  {
   "cell_type": "markdown",
   "metadata": {},
   "source": [
    "clustering nodes (customer_locations) via nearest neighbour sorting"
   ]
  },
  {
   "cell_type": "code",
   "execution_count": null,
   "metadata": {},
   "outputs": [],
   "source": [
    "# intialise cluster dict\n",
    "cluster = {124:[], 127:[], 167:[], 523:[]}\n",
    "\n",
    "# intialise nodes list\n",
    "nodes = [] \n",
    "\n",
    "# loop through each node in customer_locations\n",
    "for node in customer_locations:\n",
    "    # check if node in nodes\n",
    "    if node not in nodes:\n",
    "        # initialise dist list\n",
    "        dist = []\n",
    "        # loop through each depot key\n",
    "        for depot in cluster.keys():\n",
    "            # append euclidean weights to dist \n",
    "            dist.append(euclidean[node, depot])\n",
    "        # get shortest distance\n",
    "        shortestDist = min(dist)\n",
    "        # match shortest distance to equivalent node index\n",
    "        nearestDepotIndex = np.where(euclidean[node]==shortestDist)\n",
    "        # add node to relative nearest depot location\n",
    "        cluster[int(nearestDepotIndex[0])].append(node)\n",
    "        # track applied nodes\n",
    "        nodes.append(node)\n",
    "        # clear dist\n",
    "        dist.clear()\n",
    "\n",
    "# print allocated nodes to relative cluster points (depot locations)\n",
    "print(cluster)\n",
    "\n",
    "# clear nodes list\n",
    "nodes.clear()"
   ]
  },
  {
   "cell_type": "markdown",
   "metadata": {},
   "source": [
    "states and constraints"
   ]
  },
  {
   "cell_type": "code",
   "execution_count": null,
   "metadata": {},
   "outputs": [],
   "source": [
    "# setting required column \n",
    "location_df['required'] = location_df['capacity']-location_df['level']\n",
    "\n",
    "# displaying rows where is_customer true\n",
    "location_df[location_df['is_customer']==True].head()"
   ]
  },
  {
   "cell_type": "code",
   "execution_count": null,
   "metadata": {},
   "outputs": [],
   "source": [
    "# function: finding next nearest customer node\n",
    "def nearest_customer(currentState, customerList):\n",
    "    #initialise dist dict\n",
    "    dist = {}\n",
    "    \n",
    "    # loop through customerList\n",
    "    for i in customerList:\n",
    "        # check for all where customer != currentState\n",
    "        if i != currentState:\n",
    "            # update dist with available customer index and their relative weights\n",
    "            dist.update({i:euclidean[i,currentState]})\n",
    "\n",
    "    # initialise temp list\n",
    "    temp = []\n",
    "\n",
    "    # loop through keys of dist \n",
    "    for i in dist.keys():\n",
    "        # add weights to temp\n",
    "        temp.append(dist[i])\n",
    "    \n",
    "    # get lowest weight\n",
    "    _shortestDist = min(temp)\n",
    "    \n",
    "    # find relative index of lowest weight\n",
    "    nearestCustomerIndex = np.where(euclidean[currentState]==_shortestDist)\n",
    "    \n",
    "    # return next index with relative weight\n",
    "    return int(nearestCustomerIndex[0]), _shortestDist"
   ]
  },
  {
   "cell_type": "code",
   "execution_count": null,
   "metadata": {},
   "outputs": [],
   "source": [
    "# test nearest_customer()\n",
    "nearest_customer(1, [2, 3, 1, 5])"
   ]
  },
  {
   "cell_type": "code",
   "execution_count": null,
   "metadata": {},
   "outputs": [],
   "source": [
    "# function: finding the nearest depot\n",
    "def nearest_depot(currentState, depotList):\n",
    "    # intialise dist dict\n",
    "    dist = {}\n",
    "\n",
    "    # loop through depotList\n",
    "    for i in depotList:\n",
    "        # update dist with depot and their relative distance values\n",
    "        dist.update({i:euclidean[currentState, i]})\n",
    "    \n",
    "    # intialise temp list\n",
    "    temp = []\n",
    "\n",
    "    # loop through dist.keys()\n",
    "    for i in dist.keys():\n",
    "        # add values of each dist.keys() to temp \n",
    "        temp.append(dist[i])\n",
    "\n",
    "    # get lowest depot weight\n",
    "    _shortestDist = min(temp)\n",
    "\n",
    "    # get the relative node index of the closest depot\n",
    "    _nearestDepotIndex = np.where(euclidean[currentState]==_shortestDist)\n",
    "\n",
    "    # return next depot index with relative weight\n",
    "    return int(_nearestDepotIndex[0]), _shortestDist"
   ]
  },
  {
   "cell_type": "code",
   "execution_count": null,
   "metadata": {},
   "outputs": [],
   "source": [
    "# test near_depot()\n",
    "nearest_depot(1, depot_locations)"
   ]
  },
  {
   "cell_type": "markdown",
   "metadata": {},
   "source": [
    "greedy search (best-first-search)"
   ]
  },
  {
   "cell_type": "code",
   "execution_count": null,
   "metadata": {},
   "outputs": [],
   "source": [
    "# intialise routes dict\n",
    "routes = {}\n",
    "\n",
    "# loop through lorry_df.index \n",
    "for i in lorry_df.index:\n",
    "    # update routes with key: lorry_id, value: capacity\n",
    "    routes.update({lorry_df['lorry_id'][i]:lorry_df['capacity'][i]})"
   ]
  },
  {
   "cell_type": "code",
   "execution_count": null,
   "metadata": {},
   "outputs": [],
   "source": [
    "# display journeys so far\n",
    "routes"
   ]
  },
  {
   "cell_type": "code",
   "execution_count": null,
   "metadata": {},
   "outputs": [],
   "source": [
    "print(edges[0][2])"
   ]
  },
  {
   "cell_type": "code",
   "execution_count": null,
   "metadata": {},
   "outputs": [],
   "source": [
    "def routing(currState, toState, edges):\n",
    "    visitedState = [currState]\n",
    "    visitedEdge = []\n",
    "    edgeMemory = []\n",
    "    traversed = []\n",
    "    routeWeights = []\n",
    "    queue = [currState]\n",
    "\n",
    "    while currState != toState:\n",
    "        print(f'toState not found, pathfinding from node {currState}...')\n",
    "        q = queue.pop(0)\n",
    "        print(f'q: {q}')\n",
    "        \n",
    "        currEdges = {}\n",
    "        for edge in list(np.where(links_df[['id1', 'id2']]==q)[0]):\n",
    "            currEdges.update({edge:[edges[edge][0], edges[edge][1]]})\n",
    "        print(f'currEdges dict: {currEdges}')\n",
    "        edgeMemory.append(currEdges)\n",
    "\n",
    "        for edge in currEdges:\n",
    "            if edge not in visitedEdge:\n",
    "                visitedEdge.append(edge)\n",
    "                if currEdges[edge][0] not in visitedState and currEdges[edge][1] in visitedState:\n",
    "                    print(f'currEdges[{edge}][0] selected...')\n",
    "                    currState = currEdges[edge][0]\n",
    "                    visitedState.append(currState)\n",
    "                    queue.append(currState)\n",
    "                    if currState == toState:\n",
    "                        print(f'edges[{edge}][0] solution found!')\n",
    "                        currState = toState\n",
    "                        break \n",
    "                if currEdges[edge][1] not in visitedState and edges[edge][0] in visitedState:\n",
    "                    print(f'currEdges[{edge}][1] selected...')\n",
    "                    currState = currEdges[edge][1]\n",
    "                    visitedState.append(currState)\n",
    "                    queue.append(currState)\n",
    "                    if currState == toState:\n",
    "                        print(f'edges[{edge}][1] solution found!')\n",
    "                        currState = toState\n",
    "                        break\n",
    "    \n",
    "        print(f'visitedEdge list: {visitedEdge}')\n",
    "        print(f'visitedState list: {visitedState}')\n",
    "        print(f'\\n') \n",
    "\n",
    "    print(edgeMemory)\n",
    "\n",
    "\n",
    "routing(124, 10, edges)"
   ]
  },
  {
   "cell_type": "code",
   "execution_count": null,
   "metadata": {},
   "outputs": [],
   "source": [
    "edgeMemory = [{308: [124, 208], 309: [124, 340], 310: [124, 542]}, {43: [14, 208], 308: [124, 208], 467: [204, 208]}, {309: [124, 340], 604: [286, 340], 677: [340, 542]}, {310: [124, 542], 677: [340, 542], 834: [473, 542]}, {36: [11, 14], 43: [14, 208], 44: [14, 36]}, {466: [204, 545], 467: [204, 208], 468: [204, 555]}, {603: [286, 565], 604: [286, 340], 605: [286, 315]}, {496: [222, 473], 834: [473, 542]}, {33: [11, 545], 34: [11, 411], 35: [11, 199], 36: [11, 14]}, {44: [14, 36], 96: [36, 480]}, {33: [11, 545], 466: [204, 545], 876: [545, 555]}, {153: [60, 555], 468: [204, 555], 754: [394, 555], 862: [516, 555], 876: [545, 555]}, {603: [286, 565], 701: [354, 565], 767: [409, 565]}, {563: [262, 315], 605: [286, 315], 646: [315, 552]}, {495: [222, 396], 496: [222, 473], 497: [222, 476]}, {34: [11, 411], 266: [106, 411]}, {35: [11, 199], 455: [199, 633]}, {96: [36, 480], 223: [89, 480], 833: [472, 480]}, {32: [10, 60], 151: [59, 60], 152: [60, 627], 153: [60, 555]}]\n",
    "print(edgeMemory[0])"
   ]
  },
  {
   "cell_type": "code",
   "execution_count": null,
   "metadata": {},
   "outputs": [],
   "source": [
    "temp = [0, 1, 2, 3, 4]\n",
    "\n",
    "def route(lorryId, allocatedCustomers):\n",
    "    currentId = lorryId\n",
    "    operatingDepot = lorryId.split('-')[0]\n",
    "    currentCapacity = float(lorry_df[lorry_df['lorry_id']==lorryId].capacity)\n",
    "    currentCpm = float(lorry_df[lorry_df['lorry_id']==lorryId].cpm)\n",
    "    currentState = int(operatingDepot)\n",
    "    nextCustomerCapacity = 0\n",
    "    while currentCapacity >= nextCustomerCapacity and len(allocatedCustomers)>0:\n",
    "        nextCustomer = nearest_customer(currentState, allocatedCustomers)\n",
    "        print(nextCustomer)\n",
    "        # need for a routing function ... \n",
    "        print(allocatedCustomers)\n",
    "        break\n",
    "\n",
    "\n",
    "route(\"523-0\", temp)"
   ]
  }
 ],
 "metadata": {
  "interpreter": {
   "hash": "6dc963290d6e8c477cd46c162738e9c07bc42d08c69d19efe0ecb8c0835c38d0"
  },
  "kernelspec": {
   "display_name": "Python 3.8.3 32-bit",
   "language": "python",
   "name": "python3"
  },
  "language_info": {
   "codemirror_mode": {
    "name": "ipython",
    "version": 3
   },
   "file_extension": ".py",
   "mimetype": "text/x-python",
   "name": "python",
   "nbconvert_exporter": "python",
   "pygments_lexer": "ipython3",
   "version": "3.8.3"
  },
  "orig_nbformat": 4
 },
 "nbformat": 4,
 "nbformat_minor": 2
}
