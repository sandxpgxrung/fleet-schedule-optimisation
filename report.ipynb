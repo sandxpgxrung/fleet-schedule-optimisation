{
 "cells": [
  {
   "cell_type": "markdown",
   "metadata": {},
   "source": [
    "- problem definition: \n",
    "Task 1: Minimise the overall delivery time and cost of delivery.\n",
    "Task 2: Maximise cost-efficiency (total gas delivered/overall cost of delivery)\n",
    "\n",
    "- Constraints:\n",
    "Task 1: Deliver to customers with less gas than 50% of their tank's capacity.\n",
    "Task 2: Deliver to customers with less gas than 80% of their tank's capacity and fill up to 80% of their tank's capacity.\n",
    "\n",
    "- optimization algorithm (+ others): \n",
    "Task 1: Greedy search algorithm, Breadth-First-Search algorithm\n",
    "Task 2: Continuous Genetic Algorithm, Breadth-First-Search algorithm\n",
    "\n",
    "- results:\n",
    "outputted to task1_solution.json file "
   ]
  },
  {
   "cell_type": "markdown",
   "metadata": {},
   "source": [
    "- methodology:\n",
    "\n",
    "1. Converting the .csv files into pandas dataframe (using pandas library)\n",
    "\n",
    "Firstly I converted the data stored in .csv files into a pandas dataframe. There are many advantages to this (1), as well as some disadvantages (2): \n",
    "+ Python supported operations \n",
    "+ NumPy supported operations \n",
    "+ Extensive set of feature techniques \n",
    "+ Readable syntax \n",
    "+ Cleaner representation of data structures \n",
    "+ Conversion of .csv to a tabular format\n",
    "- Documenation (less coverage on the harder functions of pandas library)"
   ]
  },
  {
   "cell_type": "code",
   "execution_count": 3,
   "metadata": {},
   "outputs": [
    {
     "data": {
      "text/html": [
       "<div>\n",
       "<style scoped>\n",
       "    .dataframe tbody tr th:only-of-type {\n",
       "        vertical-align: middle;\n",
       "    }\n",
       "\n",
       "    .dataframe tbody tr th {\n",
       "        vertical-align: top;\n",
       "    }\n",
       "\n",
       "    .dataframe thead th {\n",
       "        text-align: right;\n",
       "    }\n",
       "</style>\n",
       "<table border=\"1\" class=\"dataframe\">\n",
       "  <thead>\n",
       "    <tr style=\"text-align: right;\">\n",
       "      <th></th>\n",
       "      <th>id</th>\n",
       "      <th>x</th>\n",
       "      <th>y</th>\n",
       "      <th>is_depot</th>\n",
       "      <th>is_customer</th>\n",
       "      <th>capacity</th>\n",
       "      <th>level</th>\n",
       "    </tr>\n",
       "  </thead>\n",
       "  <tbody>\n",
       "    <tr>\n",
       "      <th>0</th>\n",
       "      <td>0</td>\n",
       "      <td>49480.9323</td>\n",
       "      <td>5936.91874</td>\n",
       "      <td>False</td>\n",
       "      <td>False</td>\n",
       "      <td>NaN</td>\n",
       "      <td>NaN</td>\n",
       "    </tr>\n",
       "    <tr>\n",
       "      <th>1</th>\n",
       "      <td>1</td>\n",
       "      <td>49707.2278</td>\n",
       "      <td>6326.20930</td>\n",
       "      <td>False</td>\n",
       "      <td>False</td>\n",
       "      <td>NaN</td>\n",
       "      <td>NaN</td>\n",
       "    </tr>\n",
       "    <tr>\n",
       "      <th>2</th>\n",
       "      <td>2</td>\n",
       "      <td>49535.7448</td>\n",
       "      <td>6405.08264</td>\n",
       "      <td>False</td>\n",
       "      <td>False</td>\n",
       "      <td>NaN</td>\n",
       "      <td>NaN</td>\n",
       "    </tr>\n",
       "    <tr>\n",
       "      <th>3</th>\n",
       "      <td>3</td>\n",
       "      <td>49755.2884</td>\n",
       "      <td>6117.62951</td>\n",
       "      <td>False</td>\n",
       "      <td>False</td>\n",
       "      <td>NaN</td>\n",
       "      <td>NaN</td>\n",
       "    </tr>\n",
       "    <tr>\n",
       "      <th>4</th>\n",
       "      <td>4</td>\n",
       "      <td>49781.7988</td>\n",
       "      <td>5722.16266</td>\n",
       "      <td>False</td>\n",
       "      <td>False</td>\n",
       "      <td>NaN</td>\n",
       "      <td>NaN</td>\n",
       "    </tr>\n",
       "  </tbody>\n",
       "</table>\n",
       "</div>"
      ],
      "text/plain": [
       "   id           x           y  is_depot  is_customer  capacity  level\n",
       "0   0  49480.9323  5936.91874     False        False       NaN    NaN\n",
       "1   1  49707.2278  6326.20930     False        False       NaN    NaN\n",
       "2   2  49535.7448  6405.08264     False        False       NaN    NaN\n",
       "3   3  49755.2884  6117.62951     False        False       NaN    NaN\n",
       "4   4  49781.7988  5722.16266     False        False       NaN    NaN"
      ]
     },
     "execution_count": 3,
     "metadata": {},
     "output_type": "execute_result"
    }
   ],
   "source": [
    "# EXAMPLE CODE FOR .CSV FILE CONVERSION INTO PANDAS \n",
    "\n",
    "# relevant imports \n",
    "import pandas as pd \n",
    "\n",
    "# location dataframe\n",
    "location_df = pd.read_csv('SaO_Optilandia_resub_locations.csv')\n",
    "\n",
    "# visual representation of location_df in tabular format\n",
    "location_df.head()"
   ]
  },
  {
   "cell_type": "markdown",
   "metadata": {},
   "source": [
    "2. Implementing the use of numPy library to process data series from a pandas dataframe\n",
    "\n",
    "NumPy library deemed important for processing and operating on large data structures stored in the relative dataframes. The advantages and disadvantages of using NumPy library include (3): \n",
    "\n",
    "+ As opposed to the tabular data representation in Pandas used mainly for analysing data, NumPy offers multi-dimensional arrays and matrix datastructures for performing mathematical operations. \n"
   ]
  },
  {
   "cell_type": "markdown",
   "metadata": {},
   "source": [
    "- References: \n",
    "\n",
    "(1) https://peerj.com/articles/cs-55.pdf \n",
    "(2) https://data-flair.training/blogs/advantages-of-python-pandas/ \n",
    "(3) https://numpy.org/devdocs/user/absolute_beginners.html#:~:text=NumPy%20arrays%20are%20faster%20and,to%20be%20optimized%20even%20further. \n",
    "(4) https://www.javatpoint.com/pandas-vs-numpy \n",
    "(5) https://medium.com/fintechexplained/why-should-we-use-numpy-c14a4fb03ee9#:~:text=NumPy%20is%20an%20open%2Dsource,%2C%20statistical%2C%20and%20algebraic%20routines. \n"
   ]
  }
 ],
 "metadata": {
  "interpreter": {
   "hash": "a7370fec6be111b608cc34d50d3192bee79c029552a2dcb4c2363d9b827a0176"
  },
  "kernelspec": {
   "display_name": "Python 3.8.3 ('venv': venv)",
   "language": "python",
   "name": "python3"
  },
  "language_info": {
   "codemirror_mode": {
    "name": "ipython",
    "version": 3
   },
   "file_extension": ".py",
   "mimetype": "text/x-python",
   "name": "python",
   "nbconvert_exporter": "python",
   "pygments_lexer": "ipython3",
   "version": "3.8.3"
  },
  "orig_nbformat": 4
 },
 "nbformat": 4,
 "nbformat_minor": 2
}
