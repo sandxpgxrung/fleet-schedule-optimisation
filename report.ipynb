{
 "cells": [
  {
   "cell_type": "markdown",
   "metadata": {},
   "source": [
    "running tests and drafts"
   ]
  },
  {
   "cell_type": "markdown",
   "metadata": {},
   "source": [
    "                                        ### TASK 1 ### \n",
    "\n",
    "= dijkstars algorithm https://pypi.org/project/Dijkstar/ \n",
    "nearest-neighbour clustering? (either knn or notion-based) -> align with dijkastars algorithm?\n",
    "^ NB; doesn't consider ovr path length, only considers the coord differences\n",
    "-> gives quick solution (DFS -> Best First Search) -> DISADV. -> dijkstar alg. == no backtrack\n",
    "-> whereas, the manual algo. create self backtrack to go back to starting node from found node FOR SHORTEST PATH\n",
    "++ Self-coded BFS used for traversal\\pathfinding (with backtracing)\n",
    "++ greedy search used for selecting nearest nodes (customer||depot)\n",
    "GOAL? by choosing the nearest nodes -> trying to minimise overall dispatch time\n",
    "\n",
    "pathcost: 194640.17\n",
    "\n",
    "\n",
    "                                        ### TASK 2 ### \n",
    "\n",
    "= genetic algorithm from scratch\n",
    "neares-neighbour clustering (allocation to depot assignment for consistenc with task 1)\n",
    "-- BFS for node traversal\n",
    "-- Unlike greedy search, GA to order the arrangement of customers being visited by \n",
    "evaluating the overall distance per iteration... (How? possibly; keep 50% fit solutions (elitism) for next\n",
    "iteration --> pushing towards more fitter solutions)\n",
    "-> GA? explores solutions more optimally per iteration?\n",
    "GOAL? by exploring different arrangements -> trying to find the most optimal sol. for given search constraint\n",
    "\n",
    "Genome -> identified by the solution -> arrangement of customer list (in order -> thus mimics chromosomes)\n",
    "Each genome is a routes dict. -> if lorry has capacity >= of next customer -> lorry should visit in that order. \\n \n",
    "any unvisited nodes are remainders to be visited by other lorries in that depot, in same order. \n",
    "\n",
    "Fitness -> each chromosome has a weight (the overall traversal distance from one node to other)\n",
    "so the total weight per solution is the cumulative sum of each chromosome's weight in the genome. \n",
    "-- takes longer when assigning fitness to each genomes (possible solution) -> slower convergence\n",
    "\n",
    "Crossover -> given two genomes (so two routes dicts). swap allocated routes for certain depots (random chosen). \\n \n",
    "in hopes of generating a fitter offspring. (can employ elitism here to retain fitter genomes)\n",
    "\n",
    "Mutation -> within the allocated routes of a genome. Give random mutation probability. If true;\n",
    "switch orders in which a node may be visited. (can employ elitism here)\n",
    "\n",
    "# main loop these functions in a while iteration, given constraints. Use the fittest solution found as the \n",
    "final order in which lorry's from each depot are to visit the customers. \n",
    "\n",
    "TOTAL GAS SUPPLIED: 44.81999999999999\n",
    "PATH COST: 705426.94\n",
    "COST EFFICIENCY: 6.353599140968446e-05"
   ]
  }
 ],
 "metadata": {
  "interpreter": {
   "hash": "a7370fec6be111b608cc34d50d3192bee79c029552a2dcb4c2363d9b827a0176"
  },
  "kernelspec": {
   "display_name": "Python 3.8.3 ('venv': venv)",
   "language": "python",
   "name": "python3"
  },
  "language_info": {
   "name": "python",
   "version": "3.8.3"
  },
  "orig_nbformat": 4
 },
 "nbformat": 4,
 "nbformat_minor": 2
}
